{
 "cells": [
  {
   "cell_type": "markdown",
   "metadata": {},
   "source": [
    "# 影评分类：二分类问题示例\n",
    "数据为50000条严重两极分化的评论。其中25000条用于训练评论，另外25000条用于测试评论。"
   ]
  },
  {
   "cell_type": "code",
   "execution_count": 1,
   "metadata": {},
   "outputs": [],
   "source": [
    "from tensorflow.keras.datasets import imdb\n",
    "(train_data, train_labels), (test_data, test_labels) = imdb.load_data(num_words=10000)"
   ]
  },
  {
   "cell_type": "markdown",
   "metadata": {},
   "source": [
    "num_words参数表示仅保留训练数据中前10000个最常出现的单词，低频词将被舍弃。没有这个限制，要处理训练数据中的88585个单词，许多单词只出现在一个样本中，对于分类是没有意义的。"
   ]
  },
  {
   "cell_type": "code",
   "execution_count": 2,
   "metadata": {},
   "outputs": [],
   "source": [
    "# 把评论解码为文本\n",
    "# word_index是一个将单词映射为整数索引的字典\n",
    "word_index = imdb.get_word_index()\n",
    "# 把字典的键和值交换，将整数索引映射为单词\n",
    "reverse_word_index = dict(\n",
    "    [(value, key) for (value, key) in word_index.items()])\n",
    "# 对评论解码。索引减去了3，因为0、1、2是为其他词汇保留的索引\n",
    "decoded_review = \"\".join(\n",
    "    [reverse_word_index.get(i - 3, \"?\") for i in train_data[0]])"
   ]
  },
  {
   "cell_type": "markdown",
   "metadata": {},
   "source": [
    "## 准备数据\n",
    "神经网络处理的是大小相同的数据批量，需要把列表转换为张量。不能将整数列表传入神经网络"
   ]
  },
  {
   "cell_type": "code",
   "execution_count": 3,
   "metadata": {},
   "outputs": [],
   "source": [
    "# 用multi-hot编码对整数序列进行编码\n",
    "import numpy as np\n",
    "def vectorize_sequences(sequences, dimension=10000):\n",
    "    # 创建一个形状为(len(sequence), dimension)的零矩阵\n",
    "    results = np.zeros((len(sequences), dimension))\n",
    "    for i, sequence in enumerate(sequences):\n",
    "        for j in sequence:\n",
    "            results[i, j] = 1.\n",
    "    return results\n",
    "\n",
    "#把训练、测试数据向量化\n",
    "x_train = vectorize_sequences(train_data)\n",
    "x_test = vectorize_sequences(test_data)"
   ]
  },
  {
   "cell_type": "code",
   "execution_count": 4,
   "metadata": {},
   "outputs": [],
   "source": [
    "# 把标签向量化\n",
    "y_train = np.asarray(train_labels).astype(\"float32\")\n",
    "y_test = np.asarray(test_labels).astype(\"float32\")"
   ]
  },
  {
   "cell_type": "markdown",
   "metadata": {},
   "source": [
    "## 构建模型\n",
    "输入数据是向量，标签是1和0的标量。带有relu激活函数的密集连接层的简单堆叠在这一类问题上，表现很好。\n",
    "对于Dense层的堆叠，需要做出两个关键决策\n",
    "- 神经网络有多少层\n",
    "- 每层有多少个单元\n"
   ]
  },
  {
   "cell_type": "code",
   "execution_count": 5,
   "metadata": {},
   "outputs": [],
   "source": [
    "from tensorflow import keras\n",
    "from tensorflow.keras import layers\n",
    "\n",
    "# 两个隐藏层，每层16个单元。第三层输出一个标量预测值，表示当前评论的情感类别\n",
    "model = keras.Sequential([\n",
    "    layers.Dense(16, activation=\"relu\"),\n",
    "    layers.Dense(16, activation=\"relu\"),\n",
    "    layers.Dense(1, activation=\"sigmoid\")\n",
    "])"
   ]
  },
  {
   "cell_type": "markdown",
   "metadata": {},
   "source": [
    "## 编译模型\n",
    "需要选择损失函数和优化器。二分类问题，使用binary_crossentropy损失函数，优化器使用rmsprop。\n",
    "> 吴恩达的课程中提到，优化器使用Adam，Chollet在书中认为，rmsprop对于所有问题，都是很好的默认选择。可能我理解上有差异，这两个是用在不同地方的东西。\n"
   ]
  },
  {
   "cell_type": "code",
   "execution_count": 6,
   "metadata": {},
   "outputs": [],
   "source": [
    "model.compile(optimizer=\"rmsprop\",\n",
    "              loss=\"binary_crossentropy\",\n",
    "              metrics=[\"accuracy\"])"
   ]
  },
  {
   "cell_type": "markdown",
   "metadata": {},
   "source": [
    "## 验证模型\n",
    "深度学习模型不应该在训练数据上进行评估，标准做法是使用验证集来监控训练过程中的模型精度。\n",
    "* 从原始数据中留出10000个样本作为验证集。\n",
    "* 使用由512个样本组成的小批量，对模型训练20轮。\n",
    "* 通过validation_data参数传入验证数据，监控在留出的10000个样本上的损失和精度。"
   ]
  },
  {
   "cell_type": "code",
   "execution_count": 7,
   "metadata": {},
   "outputs": [],
   "source": [
    "# 留出验证集\n",
    "x_val = x_train[:10000]\n",
    "partial_x_train = x_train[10000:]\n",
    "y_val = y_train[:10000]\n",
    "partial_y_train = y_train[10000:]"
   ]
  },
  {
   "cell_type": "code",
   "execution_count": 8,
   "metadata": {},
   "outputs": [
    {
     "name": "stdout",
     "output_type": "stream",
     "text": [
      "Epoch 1/20\n"
     ]
    },
    {
     "name": "stderr",
     "output_type": "stream",
     "text": [
      "2024-06-24 20:58:26.476963: W tensorflow/tsl/platform/profile_utils/cpu_utils.cc:128] Failed to get CPU frequency: 0 Hz\n"
     ]
    },
    {
     "name": "stdout",
     "output_type": "stream",
     "text": [
      "30/30 [==============================] - 1s 27ms/step - loss: 0.5070 - accuracy: 0.7838 - val_loss: 0.4082 - val_accuracy: 0.8288\n",
      "Epoch 2/20\n",
      "30/30 [==============================] - 0s 15ms/step - loss: 0.2994 - accuracy: 0.9064 - val_loss: 0.3184 - val_accuracy: 0.8775\n",
      "Epoch 3/20\n",
      "30/30 [==============================] - 0s 8ms/step - loss: 0.2220 - accuracy: 0.9270 - val_loss: 0.2830 - val_accuracy: 0.8876\n",
      "Epoch 4/20\n",
      "30/30 [==============================] - 0s 15ms/step - loss: 0.1751 - accuracy: 0.9426 - val_loss: 0.2787 - val_accuracy: 0.8884\n",
      "Epoch 5/20\n",
      "30/30 [==============================] - 0s 16ms/step - loss: 0.1408 - accuracy: 0.9575 - val_loss: 0.2829 - val_accuracy: 0.8855\n",
      "Epoch 6/20\n",
      "30/30 [==============================] - 0s 15ms/step - loss: 0.1185 - accuracy: 0.9645 - val_loss: 0.3074 - val_accuracy: 0.8795\n",
      "Epoch 7/20\n",
      "30/30 [==============================] - 0s 14ms/step - loss: 0.0952 - accuracy: 0.9727 - val_loss: 0.3170 - val_accuracy: 0.8829\n",
      "Epoch 8/20\n",
      "30/30 [==============================] - 0s 9ms/step - loss: 0.0767 - accuracy: 0.9791 - val_loss: 0.3340 - val_accuracy: 0.8813\n",
      "Epoch 9/20\n",
      "30/30 [==============================] - 0s 14ms/step - loss: 0.0658 - accuracy: 0.9837 - val_loss: 0.3703 - val_accuracy: 0.8719\n",
      "Epoch 10/20\n",
      "30/30 [==============================] - 0s 12ms/step - loss: 0.0528 - accuracy: 0.9884 - val_loss: 0.3760 - val_accuracy: 0.8778\n",
      "Epoch 11/20\n",
      "30/30 [==============================] - 0s 13ms/step - loss: 0.0445 - accuracy: 0.9898 - val_loss: 0.4019 - val_accuracy: 0.8745\n",
      "Epoch 12/20\n",
      "30/30 [==============================] - 0s 11ms/step - loss: 0.0333 - accuracy: 0.9941 - val_loss: 0.4348 - val_accuracy: 0.8753\n",
      "Epoch 13/20\n",
      "30/30 [==============================] - 0s 10ms/step - loss: 0.0284 - accuracy: 0.9949 - val_loss: 0.4592 - val_accuracy: 0.8736\n",
      "Epoch 14/20\n",
      "30/30 [==============================] - 0s 11ms/step - loss: 0.0225 - accuracy: 0.9958 - val_loss: 0.4920 - val_accuracy: 0.8732\n",
      "Epoch 15/20\n",
      "30/30 [==============================] - 0s 11ms/step - loss: 0.0168 - accuracy: 0.9977 - val_loss: 0.5259 - val_accuracy: 0.8724\n",
      "Epoch 16/20\n",
      "30/30 [==============================] - 0s 12ms/step - loss: 0.0136 - accuracy: 0.9983 - val_loss: 0.5562 - val_accuracy: 0.8715\n",
      "Epoch 17/20\n",
      "30/30 [==============================] - 0s 9ms/step - loss: 0.0108 - accuracy: 0.9987 - val_loss: 0.5899 - val_accuracy: 0.8712\n",
      "Epoch 18/20\n",
      "30/30 [==============================] - 0s 9ms/step - loss: 0.0110 - accuracy: 0.9977 - val_loss: 0.6226 - val_accuracy: 0.8705\n",
      "Epoch 19/20\n",
      "30/30 [==============================] - 0s 14ms/step - loss: 0.0047 - accuracy: 0.9999 - val_loss: 0.6535 - val_accuracy: 0.8696\n",
      "Epoch 20/20\n",
      "30/30 [==============================] - 0s 8ms/step - loss: 0.0077 - accuracy: 0.9983 - val_loss: 0.6831 - val_accuracy: 0.8666\n"
     ]
    }
   ],
   "source": [
    "# 训练模型\n",
    "history = model.fit(partial_x_train,\n",
    "                    partial_y_train,\n",
    "                    epochs=20,\n",
    "                    batch_size=512,\n",
    "                    validation_data=(x_val, y_val))"
   ]
  },
  {
   "cell_type": "markdown",
   "metadata": {},
   "source": [
    "## 绘制训练损失和验证损失的图表\n",
    "会发现有趣的东西"
   ]
  },
  {
   "cell_type": "code",
   "execution_count": 9,
   "metadata": {},
   "outputs": [
    {
     "data": {
      "image/png": "[encoded data removed]",
      "text/plain": [
       "<Figure size 640x480 with 1 Axes>"
      ]
     },
     "metadata": {},
     "output_type": "display_data"
    }
   ],
   "source": [
    "import matplotlib.pyplot as plt \n",
    "history_dict = history.history\n",
    "loss_values = history_dict[\"loss\"]\n",
    "val_loss_values = history_dict[\"val_loss\"]\n",
    "epochs = range(1, len(loss_values) + 1)\n",
    "plt.plot(epochs, loss_values, \"bo\", label=\"Training loss\")\n",
    "plt.plot(epochs, val_loss_values, \"b\", label=\"Validation loss\")\n",
    "plt.title(\"Training and validation loss\")\n",
    "plt.xlabel(\"Epochs\")\n",
    "plt.ylabel(\"LOSS\")\n",
    "plt.legend()\n",
    "plt.show()"
   ]
  },
  {
   "cell_type": "code",
   "execution_count": 10,
   "metadata": {},
   "outputs": [
    {
     "data": {
      "image/png": "[encoded data removed]",
      "text/plain": [
       "<Figure size 640x480 with 1 Axes>"
      ]
     },
     "metadata": {},
     "output_type": "display_data"
    }
   ],
   "source": [
    "plt.clf()\n",
    "acc = history_dict[\"accuracy\"]\n",
    "val_acc = history_dict[\"val_accuracy\"]\n",
    "plt.plot(epochs, acc, \"bo\", label=\"Training acc\")\n",
    "plt.plot(epochs, val_acc, \"b\", label=\"Validation acc\")\n",
    "plt.title(\"Training and validation accuracy\")\n",
    "plt.xlabel(\"Epochs\")\n",
    "plt.ylabel(\"Accuracy\")\n",
    "plt.legend()\n",
    "plt.show()"
   ]
  },
  {
   "cell_type": "markdown",
   "metadata": {},
   "source": [
    "通过绘制图表，我们直观的发现，训练次数增加后，验证损失和验证精度并没有一直改善————出现了过拟合。\n",
    "为了防止过拟合，我们在4轮后停止训练。再从头训练一个模型，训练4轮，然后在测试数据上评估模型"
   ]
  },
  {
   "cell_type": "code",
   "execution_count": 11,
   "metadata": {},
   "outputs": [
    {
     "name": "stdout",
     "output_type": "stream",
     "text": [
      "Epoch 1/4\n",
      "49/49 [==============================] - 1s 8ms/step - loss: 0.4541 - accuracy: 0.8286\n",
      "Epoch 2/4\n",
      "49/49 [==============================] - 0s 5ms/step - loss: 0.2661 - accuracy: 0.9087\n",
      "Epoch 3/4\n",
      "49/49 [==============================] - 0s 8ms/step - loss: 0.2034 - accuracy: 0.9286\n",
      "Epoch 4/4\n",
      "49/49 [==============================] - 0s 6ms/step - loss: 0.1710 - accuracy: 0.9406\n",
      "782/782 [==============================] - 1s 628us/step - loss: 0.2974 - accuracy: 0.8814\n"
     ]
    }
   ],
   "source": [
    "model = keras.Sequential([\n",
    "    layers.Dense(16, activation=\"relu\"),\n",
    "    layers.Dense(16, activation=\"relu\"),\n",
    "    layers.Dense(1, activation=\"sigmoid\")\n",
    "])\n",
    "model.compile(optimizer=\"rmsprop\",\n",
    "              loss=\"binary_crossentropy\",\n",
    "              metrics=[\"accuracy\"])\n",
    "model.fit(x_train, y_train, epochs=4, batch_size=512)\n",
    "results=model.evaluate(x_test, y_test)"
   ]
  },
  {
   "cell_type": "code",
   "execution_count": 12,
   "metadata": {},
   "outputs": [
    {
     "name": "stdout",
     "output_type": "stream",
     "text": [
      "782/782 [==============================] - 1s 713us/step\n"
     ]
    },
    {
     "data": {
      "text/plain": [
       "array([[0.19449459],\n",
       "       [0.99967116],\n",
       "       [0.66914135],\n",
       "       ...,\n",
       "       [0.08137473],\n",
       "       [0.06876944],\n",
       "       [0.4973342 ]], dtype=float32)"
      ]
     },
     "execution_count": 12,
     "metadata": {},
     "output_type": "execute_result"
    }
   ],
   "source": [
    "model.predict(x_test)"
   ]
  },
  {
   "cell_type": "markdown",
   "metadata": {},
   "source": [
    "# 改一下"
   ]
  },
  {
   "cell_type": "code",
   "execution_count": 15,
   "metadata": {},
   "outputs": [
    {
     "name": "stdout",
     "output_type": "stream",
     "text": [
      "Epoch 1/4\n",
      "49/49 [==============================] - 1s 7ms/step - loss: 0.4653 - accuracy: 0.8110\n",
      "Epoch 2/4\n",
      "49/49 [==============================] - 0s 5ms/step - loss: 0.2538 - accuracy: 0.9106\n",
      "Epoch 3/4\n",
      "49/49 [==============================] - 0s 5ms/step - loss: 0.1948 - accuracy: 0.9294\n",
      "Epoch 4/4\n",
      "49/49 [==============================] - 0s 5ms/step - loss: 0.1630 - accuracy: 0.9418\n",
      "782/782 [==============================] - 1s 697us/step - loss: 0.3378 - accuracy: 0.8704\n"
     ]
    },
    {
     "data": {
      "text/plain": [
       "[0.337824285030365, 0.8703600168228149]"
      ]
     },
     "execution_count": 15,
     "metadata": {},
     "output_type": "execute_result"
    }
   ],
   "source": [
    "# 使用3个隐藏层\n",
    "model = keras.Sequential([\n",
    "    layers.Dense(16, activation=\"relu\"),\n",
    "    layers.Dense(16, activation=\"relu\"),\n",
    "    layers.Dense(16, activation=\"relu\"),\n",
    "    layers.Dense(1, activation=\"sigmoid\")\n",
    "])\n",
    "model.compile(optimizer=\"rmsprop\",\n",
    "              loss=\"binary_crossentropy\",\n",
    "              metrics=[\"accuracy\"])\n",
    "model.fit(x_train, y_train, epochs=4, batch_size=512)\n",
    "results=model.evaluate(x_test, y_test)\n",
    "results"
   ]
  },
  {
   "cell_type": "code",
   "execution_count": 16,
   "metadata": {},
   "outputs": [
    {
     "name": "stdout",
     "output_type": "stream",
     "text": [
      "Epoch 1/4\n",
      "49/49 [==============================] - 1s 9ms/step - loss: 0.4397 - accuracy: 0.8300\n",
      "Epoch 2/4\n",
      "49/49 [==============================] - 0s 6ms/step - loss: 0.2702 - accuracy: 0.9093\n",
      "Epoch 3/4\n",
      "49/49 [==============================] - 0s 6ms/step - loss: 0.2149 - accuracy: 0.9258\n",
      "Epoch 4/4\n",
      "49/49 [==============================] - 0s 5ms/step - loss: 0.1843 - accuracy: 0.9362\n",
      "782/782 [==============================] - 1s 585us/step - loss: 0.2807 - accuracy: 0.8866\n"
     ]
    },
    {
     "data": {
      "text/plain": [
       "[0.28073590993881226, 0.8865600228309631]"
      ]
     },
     "execution_count": 16,
     "metadata": {},
     "output_type": "execute_result"
    }
   ],
   "source": [
    "# 使用1个隐藏层\n",
    "model = keras.Sequential([\n",
    "    layers.Dense(16, activation=\"relu\"),\n",
    "    layers.Dense(1, activation=\"sigmoid\")\n",
    "])\n",
    "model.compile(optimizer=\"rmsprop\",\n",
    "              loss=\"binary_crossentropy\",\n",
    "              metrics=[\"accuracy\"])\n",
    "model.fit(x_train, y_train, epochs=4, batch_size=512)\n",
    "results=model.evaluate(x_test, y_test)\n",
    "results"
   ]
  },
  {
   "cell_type": "code",
   "execution_count": null,
   "metadata": {},
   "outputs": [],
   "source": []
  }
 ],
 "metadata": {
  "kernelspec": {
   "display_name": "base",
   "language": "python",
   "name": "python3"
  },
  "language_info": {
   "codemirror_mode": {
    "name": "ipython",
    "version": 3
   },
   "file_extension": ".py",
   "mimetype": "text/x-python",
   "name": "python",
   "nbconvert_exporter": "python",
   "pygments_lexer": "ipython3",
   "version": "3.11.5"
  }
 },
 "nbformat": 4,
 "nbformat_minor": 2
}
